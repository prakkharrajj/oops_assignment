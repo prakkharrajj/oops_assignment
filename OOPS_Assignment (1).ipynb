{
  "nbformat": 4,
  "nbformat_minor": 0,
  "metadata": {
    "colab": {
      "provenance": []
    },
    "kernelspec": {
      "name": "python3",
      "display_name": "Python 3"
    },
    "language_info": {
      "name": "python"
    }
  },
  "cells": [
    {
      "cell_type": "markdown",
      "source": [
        "#THEORY QUESTIONS"
      ],
      "metadata": {
        "id": "fkOssUGHZPvU"
      }
    },
    {
      "cell_type": "markdown",
      "source": [
        "1. What is Object-Oriented Programming (OOP).\n",
        "-  Object-Oriented Programming (OOP) is a programming paradigm based on the concept of objects that contain both data and methods. It focuses on four main principles: Encapsulation, Inheritance, Polymorphism, and Abstraction.\n",
        "\n",
        "2. What is a class in OOP?\n",
        "-  A class in OOP is a blueprint or template for creating objects that defines attributes (variables) and methods (functions) to describe the behavior and state of the objects.\n",
        "3. What is an object in OOP?\n",
        "-  An object in OOP is an instance of a class that contains data (attributes) and behaviors (methods) defined by the class.\n",
        "4. What is the difference between abstraction and encapsulation?\n",
        "-  Abstraction hides unnecessary details and shows only essential features, while Encapsulation binds data and methods into a single unit and restricts direct access to some components.\n",
        "\n",
        "5. What are dunder methods in Python?\n",
        "\n",
        "-  Dunder methods, also known as magic methods or special methods, in Python are special reserved methods\n",
        "that are surrounded by double underscores (i.e., __method__). These methods allow you to define how\n",
        "instances of your classes behave when they are used with built-in Python functions or operators.\n",
        "6. Explain the concept of inheritance in OOP?\n",
        "-   Inheritance in OOP allows a class (child class) to acquire the properties and methods of another class (parent class), promoting code reusability and hierarchical relationships between classes.\n",
        "7. What is polymorphism in OOP?\n",
        "-  Polymorphism refers to an object's capacity to assume several forms.\n",
        "Simply said, polymorphism enables us to carry out a single activity in a variety of ways.\n",
        "From the Greek words poly (many) and morphism (forms), we get polymorphism. Polymorphism is the\n",
        "capacity to assume several shapes.\n",
        "8. How is encapsulation achieved in Python?\n",
        "-  Assume, for instance, that you combine methods that provide read or write access with an attribute that is\n",
        "hidden from view on the exterior of an object. Then, you may limit who has access to the object's internal\n",
        "state and hide particular pieces of information. Without giving the program complete access to all of a\n",
        "class's variables, encapsulation provides a mechanism for us to obtain the necessary variable. This method is\n",
        "used to shield an object's data from other objects.\n",
        "9. What is a constructor in Python?\n",
        "-  In Python, a constructor is a special method used to initialize a newly created object of a class. It is automatically called when an instance (object) of a class is created.\n",
        "The primary purpose of a constructor is to set up the initial state of the object by assigning values to its attributes or performing any necessary setup logic.\n",
        "10. What are class and static methods in Python?\n",
        "-  In Python, class methods and static methods are distinct types of methods within a class, differing in how they are bound and what arguments they implicitly receive.\n",
        "A class method is a method bound to the class itself, not to an instance of the class. It is defined using the @classmethod decorator and receives the class as its first implicit argument, conventionally named cls. Class methods can access and modify class-level attributes and can also be used as alternative constructors to create instances of the class with specific initializations.\n",
        "A static method is a method that belongs to the class but does not receive any implicit first argument (neither self for an instance nor cls for the class). It is defined using the @staticmethod decorator. Static methods are essentially regular functions that are logically grouped within a class, often serving as utility functions that do not depend on the class's state or instance-specific data.\n",
        "11. What is method overloading in Python ?\n",
        "-   Method overloading is the practice of invoking the same method more than\n",
        "once with different parameters. Method overloading is not supported by Python. Even if you overload the\n",
        "method, Python only takes into account the most recent definition. If you overload a method in Python, a TypeError will be raised.\n",
        "12. What is method overriding in OOP?\n",
        "-  Python, method overriding is the process of providing a different\n",
        "implementation for a method that is already defined in the superclass within a subclass. It enables the\n",
        "subclass to define its own version of a method with the same name and parameters as the method in the\n",
        "superclass. When a method is overridden, the subclass implements the method in its own way, which\n",
        "overrides the behaviour defined in the superclass. The subclass can then alter or expand the functionality of the inherited method.\n",
        "13. What is a property decorator in Python?\n",
        "-   A property decorator (@property) in Python is used to define a method as a getter that allows a class method to be accessed like an attribute. It enables encapsulation by controlling access to private variables while allowing the syntax of accessing attributes without explicitly calling methods.\n",
        "\n",
        " In simple words: It lets you access a method like an attribute.\n",
        "\n",
        "14. Why is polymorphism important in OOP?\n",
        "-   Polymorphism allows objects of different classes to be treated as objects of a common type. This means you can write code that works with a general interface, and it will seamlessly adapt to different concrete implementations.\n",
        "\n",
        "15. What is an abstract class in Python?\n",
        "-   In Python, abstraction is a key idea in object-oriented programming (OOP) that\n",
        "allows you to describe complicated systems by hiding unneeded details and exposing just essential aspects.\n",
        "It aids in the management of programme complexity by breaking it down into smaller, more manageable\n",
        "sections.\n",
        "\n",
        "\n",
        "16. What are the advantages of OOP?\n",
        "-   Object-oriented programming (OOP) offers numerous advantages, including improved code organization, reusability, flexibility, and scalability. These features allow for modular, maintainable, and scalable software solutions. OOP also enhances productivity, simplifies debugging, and promotes collaboration by breaking down complex systems into smaller, manageable objects.\n",
        "\n",
        "17. What is the difference between a class variable and an instance variable?\n",
        "-   A class variable is shared by all objects (instances) of a class, meaning its value is the same for every instance unless specifically overridden.\n",
        "\n",
        " An instance variable is unique to each object, meaning every object can hold a different value for that variable.\n",
        "\n",
        "18. What is multiple inheritance in Python?\n",
        "-    One child class may inherit from several parent classes when there is multiple inheritance. Multiple inheritance allows classes to inherit and combine the behavior of multiple parent classes, providing\n",
        "flexibility in designing complex class hierarchies. However, it’s important to carefully consider the design and\n",
        "potential complexities that can arise when using multiple inheritance.\n",
        "\n",
        "19. Explain the purpose of ‘’__str__’ and ‘__repr__’ ‘ methods in Python?\n",
        "-   The purpose of __str__ and __repr__ methods in Python is as follows:\n",
        "\n",
        " __str__ Method:\n",
        " Used to return a readable, user-friendly string representation of an object. It is called by the print() function or str().\n",
        "\n",
        " __repr__ Method:\n",
        " Used to return an unambiguous string representation of an object, mainly for developers. It should ideally be a string that could be used to recreate the object using eval().\n",
        "\n",
        "\n",
        "20. What is the significance of the ‘super()’ function in Python?\n",
        "-  The super() function in Python is used to call methods of the parent (super) class from a child class.\n",
        "\n",
        " Significance:\n",
        "\n",
        "  i. It allows access to methods and properties of a parent class without explicitly naming it.\n",
        "\n",
        "  ii. Useful in inheritance to initialize parent class variables or reuse parent methods.\n",
        "\n",
        "  iii. Helps in maintaining code reusability and simplicity, especially in multiple or multilevel inheritance.\n",
        "\n",
        "\n",
        "21. What is the significance of the __del__ method in Python?\n",
        "\n",
        "-   The __del__ method in Python is called a destructor.\n",
        "\n",
        "  Significance:\n",
        "\n",
        "  It is automatically invoked when an object is about to be destroyed (i.e., garbage collected).\n",
        "\n",
        "  Used to release resources like closing files, network connections, or cleaning up actions when an object is no longer needed.   \n",
        "\n",
        "22. What is the difference between @staticmethod and @classmethod in Python?\n",
        "-   @staticmethod: This method does not take any reference to the class or object (no self or cls parameter). It works like a regular function but belongs to the class’s namespace. It cannot access or modify class or instance data.\n",
        "\n",
        " @classmethod: This method takes a reference to the class (cls) as its first parameter. It can access or modify class-level attributes and is used when the method needs to work with the class itself rather than a specific object.\n",
        "\n",
        "23. How does polymorphism work in Python with inheritance?\n",
        "-   Polymorphism allows objects of different classes to be treated as objects of a common parent class. When a method in a child class has the same name as in the parent class, the child’s version overrides the parent’s version. This enables the same method call to perform different behaviors depending on the object’s class\n",
        "\n",
        "24. What is method chaining in Python OOP?\n",
        "-   Method chaining is a technique in which multiple methods are called on the same object in a single line of code. Each method returns the object itself (self), allowing the next method to be called immediately.\n",
        "\n",
        "  Purpose:\n",
        "  To make the code more readable and concise by performing multiple operations in one statement.\n",
        "\n",
        "  Example:\n",
        "  object.method1().method2().method3()\n",
        "\n",
        "25. What is the purpose of the __call__ method in Python?\n",
        "-   he __call__ method in Python allows an instance of a class to be called as if it were a function.\n",
        "\n",
        "  Purpose:\n",
        "  It enables objects to be invoked like functions, adding function-like behavior to class instances.\n",
        "\n",
        "  Example use:\n",
        "\n",
        "  obj()  # calls obj.__call__()\n"
      ],
      "metadata": {
        "id": "E7e94PnkZTVT"
      }
    },
    {
      "cell_type": "markdown",
      "source": [
        "#PRACTICAL QUESTION"
      ],
      "metadata": {
        "id": "rAWaeCmpZIYz"
      }
    },
    {
      "cell_type": "code",
      "execution_count": null,
      "metadata": {
        "colab": {
          "base_uri": "https://localhost:8080/"
        },
        "id": "xi3JwygtGVsf",
        "outputId": "c5dd4c15-397e-4775-8f89-d8423e780ad3"
      },
      "outputs": [
        {
          "output_type": "stream",
          "name": "stdout",
          "text": [
            "The dog barks.\n"
          ]
        }
      ],
      "source": [
        "#1. Create a parent class Animal with a method speak() that prints a generic message. Create a child class Dog that overrides the speak() method to print \"Bark!\".\n",
        "\n",
        "class Animal:\n",
        "    def speak(self):\n",
        "        print(\"The animal speaks.\")\n",
        "\n",
        "class Dog(Animal):\n",
        "    def speak(self):\n",
        "        print(\"The dog barks.\")\n",
        "obj = Dog()\n",
        "obj.speak()"
      ]
    },
    {
      "cell_type": "code",
      "source": [
        "#2. Write a program to create an abstract class Shape with a method area(). Derive classes Circle and Rectangle from it and implement the area() method in both.\n",
        "import abc\n",
        "\n",
        "class Shape(ABC):\n",
        "    @abstractmethod\n",
        "    def area(self):\n",
        "        pass\n",
        "class Circle(Shape):\n",
        "    def __init__(self, radius):\n",
        "        self.radius = radius\n",
        "    def area(self):\n",
        "        return 3.14 * self.radius * self.radius\n",
        "class Rectangle(Shape):\n",
        "    def __init__(self, length, width):\n",
        "        self.length = length\n",
        "        self.width = width\n",
        "    def area(self):\n",
        "        return self.length * self.width\n",
        "obj_circle = Circle(5)\n",
        "obj_rectangle = Rectangle(4, 6)\n",
        "print(\"Area of the circle:\", obj_circle.area())\n",
        "print(\"Area of the rectangle:\", obj_rectangle.area())"
      ],
      "metadata": {
        "colab": {
          "base_uri": "https://localhost:8080/"
        },
        "id": "pZ9x8F7oGg9V",
        "outputId": "7bd45b9e-5505-4abc-f699-f5e607cd09dd"
      },
      "execution_count": null,
      "outputs": [
        {
          "output_type": "stream",
          "name": "stdout",
          "text": [
            "Area of the circle: 78.5\n",
            "Area of the rectangle: 24\n"
          ]
        }
      ]
    },
    {
      "cell_type": "code",
      "source": [
        "#3. Implement a multi-level inheritance scenario where a class Vehicle has an attribute type. Derive a class Car and further derive a class ElectricCar that adds a battery attribute\n",
        "class Vehicle:\n",
        "    def __init__(self, type):\n",
        "        self.type = type\n",
        "class Car(Vehicle):\n",
        "    def __init__(self, type, color):\n",
        "        super().__init__(type)\n",
        "        self.color = color\n",
        "class ElectricCar(Car):\n",
        "  def __init__(self, type, color, battery):\n",
        "    super().__init__(type,color )\n",
        "    self.battery = battery\n",
        "\n",
        "obj = ElectricCar(\"Electric\",'White' ,40)\n",
        "obj.type\n",
        "obj.battery\n",
        "obj.color\n"
      ],
      "metadata": {
        "colab": {
          "base_uri": "https://localhost:8080/",
          "height": 35
        },
        "id": "P__u_uxvHQlq",
        "outputId": "0a996af3-d5e9-4b66-cba6-e68020b04917"
      },
      "execution_count": null,
      "outputs": [
        {
          "output_type": "execute_result",
          "data": {
            "text/plain": [
              "'White'"
            ],
            "application/vnd.google.colaboratory.intrinsic+json": {
              "type": "string"
            }
          },
          "metadata": {},
          "execution_count": 24
        }
      ]
    },
    {
      "cell_type": "code",
      "source": [
        "#4. Demonstrate polymorphism by creating a base class Bird with a method fly(). Create two derived classes Sparrow and Penguin that override the fly() method.\n",
        "\n",
        "class Bird:\n",
        "    def fly(self):\n",
        "        print(\"The bird is flying.\")\n",
        "class Sparrow(Bird):\n",
        "    def fly(self):\n",
        "        print(\"The sparrow is flying.\")\n",
        "class Penguin(Bird):\n",
        "    def fly(self):\n",
        "        print(\"The penguin is not flying.\")\n",
        "obj_sparrow = Sparrow()\n",
        "obj_penguin = Penguin()\n",
        "obj_sparrow.fly()\n",
        "obj_penguin.fly()"
      ],
      "metadata": {
        "colab": {
          "base_uri": "https://localhost:8080/"
        },
        "id": "a6RKXtNMJbOg",
        "outputId": "0f5b31fb-5df5-4686-e533-ba7506af2eab"
      },
      "execution_count": null,
      "outputs": [
        {
          "output_type": "stream",
          "name": "stdout",
          "text": [
            "The sparrow is flying.\n",
            "The penguin is not flying.\n"
          ]
        }
      ]
    },
    {
      "cell_type": "code",
      "source": [
        "#5. Write a program to demonstrate encapsulation by creating a class BankAccount with private attributes balance and methods to deposit, withdraw, and check balance.\n",
        "class BankAccount:\n",
        "    def __init__(self, balance):\n",
        "        self.__balance = balance\n",
        "    def deposit(self, amount):\n",
        "        self.__balance += amount\n",
        "    def withdraw(self, amount):\n",
        "        if amount <= self.__balance:\n",
        "            self.__balance -= amount\n",
        "        else:\n",
        "            print(\"Insufficient balance.\")\n",
        "\n",
        "    def check_balance(self):\n",
        "        return self.__balance\n",
        "obj = BankAccount(1000)\n",
        "obj.deposit(500)\n",
        "obj.withdraw(200)\n",
        "\n",
        "print(\"Current balance:\", obj.check_balance())"
      ],
      "metadata": {
        "colab": {
          "base_uri": "https://localhost:8080/"
        },
        "id": "0SF7Ezq9KWZ7",
        "outputId": "ec9129b1-1b53-416f-eeeb-501087364c03"
      },
      "execution_count": null,
      "outputs": [
        {
          "output_type": "stream",
          "name": "stdout",
          "text": [
            "Current balance: 1300\n"
          ]
        }
      ]
    },
    {
      "cell_type": "code",
      "source": [
        "#6. Demonstrate runtime polymorphism using a method play() in a base class Instrument. Derive classes Guitar and Piano that implement their own version of play().\n",
        "class Instrument:\n",
        "    def play(self):\n",
        "        print(\"The instrument is playing.\")\n",
        "class Guitar(Instrument):\n",
        "    def play(self):\n",
        "        print(\"The guitar is playing.\")\n",
        "class Piano(Instrument):\n",
        "    def play(self):\n",
        "        print(\"The piano is playing.\")\n",
        "obj_guitar = Guitar()\n",
        "obj_piano = Piano()\n",
        "obj_guitar.play()\n",
        "obj_piano.play()"
      ],
      "metadata": {
        "colab": {
          "base_uri": "https://localhost:8080/"
        },
        "id": "1qjZsx7NK5Po",
        "outputId": "8403d31e-aea7-43be-bf3d-36bc50399b57"
      },
      "execution_count": null,
      "outputs": [
        {
          "output_type": "stream",
          "name": "stdout",
          "text": [
            "The guitar is playing.\n",
            "The piano is playing.\n"
          ]
        }
      ]
    },
    {
      "cell_type": "code",
      "source": [
        "#7. Create a class MathOperations with a class method add_numbers() to add two numbers and a static method subtract_numbers() to subtract two numbers.\n",
        "class MathOperations:\n",
        "    @classmethod\n",
        "    def add_numbers(cls, a, b):\n",
        "        return a + b\n",
        "    @staticmethod\n",
        "    def subtract_numbers(a, b):\n",
        "        return a - b\n",
        "obj_adds = MathOperations()\n",
        "print(obj_adds.add_numbers(10, 20))\n",
        "print(obj_adds.subtract_numbers(30, 20))"
      ],
      "metadata": {
        "colab": {
          "base_uri": "https://localhost:8080/"
        },
        "id": "Ek6xA0ZHMl7H",
        "outputId": "0f738db1-6574-404d-e95b-b94534cdc6e5"
      },
      "execution_count": null,
      "outputs": [
        {
          "output_type": "stream",
          "name": "stdout",
          "text": [
            "30\n",
            "10\n"
          ]
        }
      ]
    },
    {
      "cell_type": "code",
      "source": [
        "#8. Implement a class Person with a class method to count the total number of persons created.\n",
        "class Person:\n",
        "    count = 0\n",
        "    def __init__(self, name, age):\n",
        "        self.name = name\n",
        "        self.age = age\n",
        "        Person.count += 1\n",
        "    @classmethod\n",
        "    def total_persons(cls):\n",
        "        return cls.count\n",
        "person1 = Person(\"John\", 25)\n",
        "person2 = Person(\"Alice\", 30)\n",
        "print(\"Total persons:\", Person.total_persons())"
      ],
      "metadata": {
        "colab": {
          "base_uri": "https://localhost:8080/"
        },
        "id": "dyGJ7QaINVKW",
        "outputId": "8d4fba48-2ead-46c2-ed05-c743f078e56c"
      },
      "execution_count": null,
      "outputs": [
        {
          "output_type": "stream",
          "name": "stdout",
          "text": [
            "Total persons: 2\n"
          ]
        }
      ]
    },
    {
      "cell_type": "code",
      "source": [
        "# 9. Write a class Fraction with attributes numerator and denominator. Override the str method to display the fraction as \"numerator/denominator\".\n",
        "class Fraction:\n",
        "    def __init__(self, numerator, denominator):\n",
        "        self.numerator = numerator\n",
        "        self.denominator = denominator\n",
        "    def __str__(self):\n",
        "        return f\"{self.numerator}/{self.denominator}\"\n",
        "obj = Fraction(3, 4)\n",
        "print(obj)"
      ],
      "metadata": {
        "colab": {
          "base_uri": "https://localhost:8080/"
        },
        "id": "VH2q62EMNvPJ",
        "outputId": "59c2586e-69b2-4c36-9400-b2ef452cfbbf"
      },
      "execution_count": null,
      "outputs": [
        {
          "output_type": "stream",
          "name": "stdout",
          "text": [
            "3/4\n"
          ]
        }
      ]
    },
    {
      "cell_type": "code",
      "source": [
        "#10. Demonstrate operator overloading by creating a class Vector and overriding the add method to add two vectors.\n",
        "class Vector:\n",
        "  def __init__(self, x, y):\n",
        "    self.x = x\n",
        "    self.y = y\n",
        "  def __add__(self, other):\n",
        "    return Vector(self.x + other.x, self.y + other.y)\n",
        "obj_add = Vector(1, 2)\n",
        "obj_add2 = Vector(3, 4)\n",
        "result = obj_add + obj_add2\n",
        "print(result.x , result.y)"
      ],
      "metadata": {
        "colab": {
          "base_uri": "https://localhost:8080/"
        },
        "id": "avq3AgI9OweI",
        "outputId": "577b30fd-a42a-4374-d309-d1f6e2b92850"
      },
      "execution_count": null,
      "outputs": [
        {
          "output_type": "stream",
          "name": "stdout",
          "text": [
            "4 6\n"
          ]
        }
      ]
    },
    {
      "cell_type": "code",
      "source": [
        "#11. Create a class Person with attributes name and age. Add a method greet() that prints \"Hello, my name is {name} and I am {age} years old.\"\n",
        "class Person:\n",
        "    def __init__(self, name, age):\n",
        "        self.name = name\n",
        "        self.age = age\n",
        "    def greet(self):\n",
        "        print(f\"Hello, my name is {self.name} and I am {self.age} years old.\")\n",
        "obj =  Person(\"John\", 25)\n",
        "obj.greet()"
      ],
      "metadata": {
        "colab": {
          "base_uri": "https://localhost:8080/"
        },
        "id": "CKwKBQJZTGGU",
        "outputId": "d5c13701-420b-42d0-9dec-43f5e29478bf"
      },
      "execution_count": null,
      "outputs": [
        {
          "output_type": "stream",
          "name": "stdout",
          "text": [
            "Hello, my name is John and I am 25 years old.\n"
          ]
        }
      ]
    },
    {
      "cell_type": "code",
      "source": [
        "#12. Implement a class Student with attributes name and grades. Create a method average_grade() to compute the average of the grades.\n",
        "class Student:\n",
        "    def __init__(self, name, grades):\n",
        "        self.name = name\n",
        "        self.grades = grades\n",
        "    def average_grade(self):\n",
        "        return sum(self.grades) / len(self.grades)\n",
        "\n",
        "obj = Student(\"John\", [85, 90, 78, 92])\n",
        "print(obj.average_grade())"
      ],
      "metadata": {
        "colab": {
          "base_uri": "https://localhost:8080/"
        },
        "id": "yvWAi27bTnAp",
        "outputId": "bb2fcca6-0ed1-4cf9-e23a-8a5dbcdf4962"
      },
      "execution_count": null,
      "outputs": [
        {
          "output_type": "stream",
          "name": "stdout",
          "text": [
            "86.25\n"
          ]
        }
      ]
    },
    {
      "cell_type": "code",
      "source": [
        "#13. Create a class Rectangle with methods set_dimensions() to set the dimensions and area() to calculate the area.\n",
        "class Rectangle:\n",
        "    def __init__(self, length, width):\n",
        "        self.length = length\n",
        "        self.width = width\n",
        "    def set_dimensions(self ,length,width):\n",
        "        self.length = length\n",
        "        self.width = width\n",
        "    def area(self):\n",
        "        return self.length * self.width\n",
        "\n",
        "obj = Rectangle(10,20)\n",
        "obj.area()\n"
      ],
      "metadata": {
        "colab": {
          "base_uri": "https://localhost:8080/"
        },
        "id": "3V7MF9FKTzv4",
        "outputId": "2254cc4b-6712-4747-9d9c-6f8882efd61c"
      },
      "execution_count": null,
      "outputs": [
        {
          "output_type": "execute_result",
          "data": {
            "text/plain": [
              "200"
            ]
          },
          "metadata": {},
          "execution_count": 63
        }
      ]
    },
    {
      "cell_type": "code",
      "source": [
        "#14. Create a class Employee with a method calculate_salary() that computes the salary based on hours worked and hourly rate. Create a derived class Manager that adds a bonus to the salary.\n",
        "\n",
        "class Employess:\n",
        "\n",
        "  def __init__(self , name,hours_worked,hourly_rate):\n",
        "    self.name = name\n",
        "    self.hours_worked = hours_worked\n",
        "    self.hourly_rate = hourly_rate\n",
        "\n",
        "  def calculate_salary(self):\n",
        "    return self.hours_worked * self.hourly_rate\n",
        "\n",
        "class Manager(Employess):\n",
        "  def __init__(self, name, hours_worked, hourly_rate, bonus):\n",
        "    super().__init__(name, hours_worked, hourly_rate)\n",
        "    self.bonus = bonus\n",
        "\n",
        "  def calculate_salary(self):\n",
        "    return super().calculate_salary() + self.bonus\n",
        "\n",
        "obj = Manager(\"John\", 40, 50,100)\n",
        "\n",
        "print(obj.calculate_salary())"
      ],
      "metadata": {
        "colab": {
          "base_uri": "https://localhost:8080/"
        },
        "id": "eJryoUNtUBYf",
        "outputId": "9f76d44b-7ced-4e70-d147-31cf86608927"
      },
      "execution_count": null,
      "outputs": [
        {
          "output_type": "stream",
          "name": "stdout",
          "text": [
            "2100\n"
          ]
        }
      ]
    },
    {
      "cell_type": "code",
      "source": [
        "#15. Create a class Product with attributes name, price, and quantity. Implement a method total_price() that calculates the total price of the product.\n",
        "class Product:\n",
        "    def __init__(self, name, price, quantity):\n",
        "        self.name = name\n",
        "        self.price = price\n",
        "        self.quantity = quantity\n",
        "    def total_price(self):\n",
        "        return self.price * self.quantity\n",
        "obj = Product(\"Apple\", 20, 5)\n",
        "print(obj.total_price())"
      ],
      "metadata": {
        "colab": {
          "base_uri": "https://localhost:8080/"
        },
        "id": "4G2YsUCjVKSR",
        "outputId": "0a4010a8-54e9-4ff0-8ea9-ef091275a8f1"
      },
      "execution_count": null,
      "outputs": [
        {
          "output_type": "stream",
          "name": "stdout",
          "text": [
            "100\n"
          ]
        }
      ]
    },
    {
      "cell_type": "code",
      "source": [
        "#16. Create a class Animal with an abstract method sound(). Create two derived classes Cow and Sheep that implement the sound() method.\n",
        "import abc\n",
        "class Animal:\n",
        "    @abc.abstractmethod\n",
        "    def sound(self):\n",
        "        pass\n",
        "class Cow(Animal):\n",
        "    def sound(self):\n",
        "        print(\"The cow makes a sound.\")\n",
        "class Sheep(Animal):\n",
        "    def sound(self):\n",
        "        print(\"The sheep makes a sound.\")\n",
        "obj1 = Cow()\n",
        "obj2 = Sheep()\n",
        "obj1.sound()\n",
        "obj2.sound()"
      ],
      "metadata": {
        "colab": {
          "base_uri": "https://localhost:8080/"
        },
        "id": "Tma9w7nIWRcH",
        "outputId": "b801db70-26d5-447c-9873-1a955b45a8de"
      },
      "execution_count": null,
      "outputs": [
        {
          "output_type": "stream",
          "name": "stdout",
          "text": [
            "The cow makes a sound.\n",
            "The sheep makes a sound.\n"
          ]
        }
      ]
    },
    {
      "cell_type": "code",
      "source": [
        "#17. Create a class Book with attributes title, author, and year_published. Add a method get_book_info() that returns a formatted string with the book's details.\n",
        "\n",
        "class Book:\n",
        "    def __init__(self, title, author, year_published):\n",
        "        self.title = title\n",
        "        self.author = author\n",
        "        self.year_published = year_published\n",
        "\n",
        "    def get_book_info(self) :\n",
        "        return f\"Title: {self.title}\\nAuthor: {self.author}\\nYear Published: {self.year_published}\"\n",
        "obj = Book(\"The Great Gatsby\", \"F. Scott Fitzgerald\", 1925)\n",
        "print(obj.get_book_info())\n",
        "\n"
      ],
      "metadata": {
        "colab": {
          "base_uri": "https://localhost:8080/"
        },
        "id": "WP67T9L6WeUc",
        "outputId": "a6393962-faeb-4662-8ec7-bd4929d0a28e"
      },
      "execution_count": null,
      "outputs": [
        {
          "output_type": "stream",
          "name": "stdout",
          "text": [
            "Title: The Great Gatsby\n",
            "Author: F. Scott Fitzgerald\n",
            "Year Published: 1925\n"
          ]
        }
      ]
    },
    {
      "cell_type": "code",
      "source": [
        "#18. Create a class House with attributes address and price. Create a derived class Mansion that adds an attribute number_of_rooms.\n",
        "class House:\n",
        "    def __init__(self, address, price):\n",
        "        self.address = address\n",
        "        self.price = price\n",
        "class Mansion(House):\n",
        "    def __init__(self, address, price, number_of_rooms):\n",
        "        super().__init__(address, price)\n",
        "        self.number_of_rooms = number_of_rooms\n",
        "obj = Mansion(\"123 Main St\", 20000, 5)\n",
        "print(obj.address)\n",
        "print(obj.price)\n",
        "print(obj.number_of_rooms)"
      ],
      "metadata": {
        "colab": {
          "base_uri": "https://localhost:8080/"
        },
        "id": "uNNYOH16WjJj",
        "outputId": "a9a0ef97-ed67-4514-b927-26e340dedd6b"
      },
      "execution_count": null,
      "outputs": [
        {
          "output_type": "stream",
          "name": "stdout",
          "text": [
            "123 Main St\n",
            "20000\n",
            "5\n"
          ]
        }
      ]
    },
    {
      "cell_type": "code",
      "source": [],
      "metadata": {
        "id": "5cmzgwWKW3t_"
      },
      "execution_count": null,
      "outputs": []
    }
  ]
}